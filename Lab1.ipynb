{
 "cells": [
  {
   "cell_type": "code",
   "execution_count": 4,
   "id": "8700e985",
   "metadata": {},
   "outputs": [],
   "source": [
    "import math"
   ]
  },
  {
   "cell_type": "code",
   "execution_count": 13,
   "id": "9cebe238",
   "metadata": {},
   "outputs": [],
   "source": [
    "a = -1\n",
    "b = 0\n",
    "N = 36"
   ]
  },
  {
   "cell_type": "code",
   "execution_count": 14,
   "id": "d22a7f10",
   "metadata": {},
   "outputs": [],
   "source": [
    "func = lambda x: pow(x, 2)+6*math.exp(0.15*x)"
   ]
  },
  {
   "cell_type": "code",
   "execution_count": 16,
   "id": "8349a10e",
   "metadata": {},
   "outputs": [
    {
     "name": "stdout",
     "output_type": "stream",
     "text": [
      "Пассивный оптимальный алгоритм\n",
      "Точки и значения функций в этих точках\n",
      "xi = -0.9478684210526316 f(xi) = 6.10324376623346\n",
      "xi = -0.8942368421052632 f(xi) = 6.04648878577232\n",
      "xi = -0.8426052631578946 f(xi) = 5.9976059592486415\n",
      "xi = -0.7889736842105264 f(xi) = 5.952810895652043\n",
      "xi = -0.7373421052631579 f(xi) = 5.915447088265453\n",
      "xi = -0.6837105263157895 f(xi) = 5.882622589450556\n",
      "xi = -0.632078947368421 f(xi) = 5.856788133287762\n",
      "xi = -0.5784473684210527 f(xi) = 5.835945016631058\n",
      "xi = -0.5268157894736842 f(xi) = 5.821650408211714\n",
      "xi = -0.4731842105263158 f(xi) = 5.812799663245921\n",
      "xi = -0.42155263157894735 f(xi) = 5.810055566139553\n",
      "xi = -0.367921052631579 f(xi) = 5.813208357293454\n",
      "xi = -0.3162894736842106 f(xi) = 5.822025604778011\n",
      "xi = -0.26265789473684215 f(xi) = 5.837193274159883\n",
      "xi = -0.21102631578947367 f(xi) = 5.857582871922615\n",
      "xi = -0.1573947368421053 f(xi) = 5.884776942147966\n",
      "xi = -0.10576315789473695 f(xi) = 5.916750071029284\n",
      "xi = -0.05213157894736847 f(xi) = 5.95598224809358\n",
      "Точка минимума : -0.4205526315789474   Наименьшее значение функции : 5.810058376585231  В интервале (-0.4731842105263158 , -0.367921052631579)\n",
      "Погрешность : 0.05213157894736842lN = 0.05313157894736842\n"
     ]
    }
   ],
   "source": [
    "x = []\n",
    "y = []\n",
    "eps1 = 0.001\n",
    "imin = 0\n",
    "for k in range(1,int(N/2)+1,1):\n",
    "    if k % 2 == 0:\n",
    "        x.append(a+(b-a)/(N/2+1)*k+eps1/2)\n",
    "    else:\n",
    "        x.append(a+(b-a)/(N/2+1)*k-eps1/2)\n",
    "for i in range(0,int(N/2),1):\n",
    "    y.append(func(x[i])) \n",
    "print(\"Пассивный оптимальный алгоритм\")\n",
    "print(\"Точки и значения функций в этих точках\")    \n",
    "for i in range(0,int(N/2),1):\n",
    "    print(\"xi = {0} f(xi) = {1}\".format(x[i],y[i]))\n",
    "ypmin = y[0]    \n",
    "for i in range(0,int(N/2),1):\n",
    "    if y[i] < ypmin:\n",
    "        ypmin = y[i]\n",
    "        imin = i\n",
    "        \n",
    "xPmin=(x[imin-1]+x[imin+1])/2;\n",
    "print(\"Точка минимума : {0}   Наименьшее значение функции : {1}  В интервале ({2} , {3})\".format(xPmin,func(xPmin),x[imin-1],x[imin+1]))\n",
    "print(\"Погрешность : \"+str((b-a)/(N/2+1)-eps1/2)+\"lN = \"+str((b-a)/(N/2+1)+eps1/2))"
   ]
  },
  {
   "cell_type": "code",
   "execution_count": null,
   "id": "e10354ef",
   "metadata": {},
   "outputs": [],
   "source": []
  }
 ],
 "metadata": {
  "kernelspec": {
   "display_name": "Python 3 (ipykernel)",
   "language": "python",
   "name": "python3"
  },
  "language_info": {
   "codemirror_mode": {
    "name": "ipython",
    "version": 3
   },
   "file_extension": ".py",
   "mimetype": "text/x-python",
   "name": "python",
   "nbconvert_exporter": "python",
   "pygments_lexer": "ipython3",
   "version": "3.9.12"
  }
 },
 "nbformat": 4,
 "nbformat_minor": 5
}
